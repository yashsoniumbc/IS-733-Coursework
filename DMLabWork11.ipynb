{
 "cells": [
  {
   "cell_type": "code",
   "execution_count": 29,
   "metadata": {},
   "outputs": [
    {
     "name": "stdout",
     "output_type": "stream",
     "text": [
      "Results: 5-Fold Stratified Cross-Validation\n",
      "LogisticRegression: 0.815 ± 0.075\n",
      "LinearSVM: 0.800 ± 0.045\n",
      "NaiveBayes: 0.777 ± 0.066\n",
      "RandomForest: 0.792 ± 0.062\n",
      "\n",
      "Results: Leave-One-Plot-Out Cross-Validation\n",
      "LogisticRegression: 0.804 ± 0.186\n",
      "LinearSVM: 0.805 ± 0.183\n",
      "NaiveBayes: 0.711 ± 0.142\n",
      "RandomForest: 0.623 ± 0.138\n"
     ]
    }
   ],
   "source": [
    "import pandas as pd\n",
    "import numpy as np\n",
    "from sklearn.model_selection import cross_val_score, StratifiedKFold, GroupKFold\n",
    "from sklearn.feature_extraction.text import TfidfVectorizer\n",
    "from sklearn.pipeline import Pipeline\n",
    "from sklearn.linear_model import LogisticRegression\n",
    "from sklearn.naive_bayes import MultinomialNB\n",
    "from sklearn.svm import LinearSVC\n",
    "from sklearn.ensemble import RandomForestClassifier\n",
    "\n",
    "# Load dataset\n",
    "data = pd.read_csv('/Users/yashsoni/Documents/data_stories_one_shot.csv')  # Update path as needed\n",
    "\n",
    "# Label: Stage 1 = 0 (Show), Stage 2 or 3 = 1 (Tell)\n",
    "data['Target'] = data['Stage'].apply(lambda stage: 0 if stage == 1 else 1)\n",
    "\n",
    "# Define features and labels\n",
    "texts = data['Sentence'].values\n",
    "labels = data['Target'].values\n",
    "plot_ids = data['Plot_Name'].values\n",
    "\n",
    "# TF-IDF Vectorizer setup\n",
    "tfidf = TfidfVectorizer(lowercase=True,\n",
    "                        stop_words='english',\n",
    "                        token_pattern=r'\\b[a-z]{2,}\\b')\n",
    "\n",
    "# Classifiers to compare\n",
    "models = {\n",
    "    \"LogisticRegression\": LogisticRegression(max_iter=1000, class_weight='balanced'),\n",
    "    \"LinearSVM\": LinearSVC(class_weight='balanced'),\n",
    "    \"NaiveBayes\": MultinomialNB(),\n",
    "    \"RandomForest\": RandomForestClassifier(n_estimators=300, random_state=42, class_weight='balanced')\n",
    "}\n",
    "\n",
    "# 5-Fold Stratified Cross-Validation\n",
    "print(\"Results: 5-Fold Stratified Cross-Validation\")\n",
    "strat_cv = StratifiedKFold(n_splits=5, shuffle=True, random_state=42)\n",
    "for model_name, model in models.items():\n",
    "    pipeline = Pipeline([('vectorizer', tfidf), ('classifier', model)])\n",
    "    accuracy_scores = cross_val_score(pipeline, texts, labels, cv=strat_cv, scoring='accuracy')\n",
    "    print(f\"{model_name}: {accuracy_scores.mean():.3f} ± {accuracy_scores.std():.3f}\")\n",
    "\n",
    "# Leave-One-Plot-Out Cross-Validation\n",
    "print(\"\\nResults: Leave-One-Plot-Out Cross-Validation\")\n",
    "group_cv = GroupKFold(n_splits=len(np.unique(plot_ids)))\n",
    "for model_name, model in models.items():\n",
    "    pipeline = Pipeline([('vectorizer', tfidf), ('classifier', model)])\n",
    "    group_scores = cross_val_score(pipeline, texts, labels, cv=group_cv, groups=plot_ids, scoring='accuracy')\n",
    "    print(f\"{model_name}: {group_scores.mean():.3f} ± {group_scores.std():.3f}\")"
   ]
  },
  {
   "cell_type": "code",
   "execution_count": null,
   "metadata": {},
   "outputs": [],
   "source": []
  }
 ],
 "metadata": {
  "kernelspec": {
   "display_name": "Python 3",
   "language": "python",
   "name": "python3"
  },
  "language_info": {
   "codemirror_mode": {
    "name": "ipython",
    "version": 3
   },
   "file_extension": ".py",
   "mimetype": "text/x-python",
   "name": "python",
   "nbconvert_exporter": "python",
   "pygments_lexer": "ipython3",
   "version": "3.9.6"
  }
 },
 "nbformat": 4,
 "nbformat_minor": 2
}
