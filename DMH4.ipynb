{
 "cells": [
  {
   "cell_type": "code",
   "execution_count": 3,
   "metadata": {},
   "outputs": [
    {
     "name": "stdout",
     "output_type": "stream",
     "text": [
      "(130, 4)\n"
     ]
    },
    {
     "data": {
      "text/html": [
       "<div>\n",
       "<style scoped>\n",
       "    .dataframe tbody tr th:only-of-type {\n",
       "        vertical-align: middle;\n",
       "    }\n",
       "\n",
       "    .dataframe tbody tr th {\n",
       "        vertical-align: top;\n",
       "    }\n",
       "\n",
       "    .dataframe thead th {\n",
       "        text-align: right;\n",
       "    }\n",
       "</style>\n",
       "<table border=\"1\" class=\"dataframe\">\n",
       "  <thead>\n",
       "    <tr style=\"text-align: right;\">\n",
       "      <th></th>\n",
       "      <th>Plot_Name</th>\n",
       "      <th>Stage</th>\n",
       "      <th>Quality</th>\n",
       "      <th>Sentence</th>\n",
       "    </tr>\n",
       "  </thead>\n",
       "  <tbody>\n",
       "    <tr>\n",
       "      <th>0</th>\n",
       "      <td>walk dog</td>\n",
       "      <td>1</td>\n",
       "      <td>1.0</td>\n",
       "      <td>This is a line chart with error bars.</td>\n",
       "    </tr>\n",
       "    <tr>\n",
       "      <th>1</th>\n",
       "      <td>walk dog</td>\n",
       "      <td>1</td>\n",
       "      <td>1.0</td>\n",
       "      <td>The chart title is 'Walk dog'.</td>\n",
       "    </tr>\n",
       "    <tr>\n",
       "      <th>2</th>\n",
       "      <td>walk dog</td>\n",
       "      <td>1</td>\n",
       "      <td>1.0</td>\n",
       "      <td>The y-axis represents 'Mean anxiety'.</td>\n",
       "    </tr>\n",
       "    <tr>\n",
       "      <th>3</th>\n",
       "      <td>walk dog</td>\n",
       "      <td>1</td>\n",
       "      <td>1.0</td>\n",
       "      <td>The x-axis indicates conditions such as 'Basel...</td>\n",
       "    </tr>\n",
       "    <tr>\n",
       "      <th>4</th>\n",
       "      <td>walk dog</td>\n",
       "      <td>1</td>\n",
       "      <td>1.0</td>\n",
       "      <td>The chart compares mean anxiety levels with an...</td>\n",
       "    </tr>\n",
       "  </tbody>\n",
       "</table>\n",
       "</div>"
      ],
      "text/plain": [
       "  Plot_Name  Stage  Quality                                           Sentence\n",
       "0  walk dog      1      1.0              This is a line chart with error bars.\n",
       "1  walk dog      1      1.0                     The chart title is 'Walk dog'.\n",
       "2  walk dog      1      1.0              The y-axis represents 'Mean anxiety'.\n",
       "3  walk dog      1      1.0  The x-axis indicates conditions such as 'Basel...\n",
       "4  walk dog      1      1.0  The chart compares mean anxiety levels with an..."
      ]
     },
     "metadata": {},
     "output_type": "display_data"
    }
   ],
   "source": [
    "# Step 1 - Setup & Load the Dataset\n",
    "import pandas as pd\n",
    "\n",
    "# 1.1 Load\n",
    "df = pd.read_csv('/Users/yashsoni/Documents/data_stories_one_shot.csv')   # ← change to your actual filename\n",
    "# 1.2 Quick look & cleanup\n",
    "print(df.shape)\n",
    "display(df.head())\n",
    "df = df.dropna()   # drop rows with missing values (or impute, if preferred)"
   ]
  },
  {
   "cell_type": "code",
   "execution_count": 8,
   "metadata": {},
   "outputs": [],
   "source": [
    "# Step 2 - Data Preprocessing: Standardize to Zero-Mean\n",
    "import numpy as np\n",
    "from sklearn.preprocessing import StandardScaler\n",
    "\n",
    "# 2.1 Select only numeric columns (PCA needs numbers)\n",
    "numeric_cols = df.select_dtypes(include=[np.number]).columns  \n",
    "X_numeric   = df[numeric_cols]\n",
    "\n",
    "# 2.2 Standardize (zero mean, unit variance)\n",
    "scaler = StandardScaler()\n",
    "X_std  = scaler.fit_transform(X_numeric)"
   ]
  },
  {
   "cell_type": "code",
   "execution_count": 9,
   "metadata": {},
   "outputs": [],
   "source": [
    "from sklearn.decomposition import PCA\n",
    "\n",
    "pca   = PCA()            # compute all PCs\n",
    "X_pca = pca.fit_transform(X_std)\n",
    "# X_pca.shape == (n_samples, n_features)"
   ]
  },
  {
   "cell_type": "code",
   "execution_count": 12,
   "metadata": {},
   "outputs": [
    {
     "data": {
      "image/png": "[encoded data removed]",
      "text/plain": [
       "<Figure size 640x480 with 1 Axes>"
      ]
     },
     "metadata": {},
     "output_type": "display_data"
    },
    {
     "name": "stdout",
     "output_type": "stream",
     "text": [
      "PC1–PC1: 54.03% variance explained\n",
      "PC1–PC2: 100.00% variance explained\n",
      "\n",
      "Choosing k = 2 (retains 100.00% of variance)\n"
     ]
    }
   ],
   "source": [
    "# Scree Plot and Explained Variance\n",
    "\n",
    "import matplotlib.pyplot as plt\n",
    "\n",
    "# 4.1 Eigenvalues and variance ratios\n",
    "eigenvals = pca.explained_variance_\n",
    "var_ratio = pca.explained_variance_ratio_\n",
    "\n",
    "# 4.2 Scree plot of eigenvalues\n",
    "plt.figure()\n",
    "plt.plot(range(1, len(eigenvals)+1), eigenvals, 'o-')\n",
    "plt.title('Scree Plot')\n",
    "plt.xlabel('Principal Component')\n",
    "plt.ylabel('Eigenvalue')\n",
    "plt.xticks(range(1, len(eigenvals)+1))\n",
    "plt.show()\n",
    "\n",
    "# 4.3 Cumulative variance explained\n",
    "cumvar = var_ratio.cumsum()\n",
    "for i, cv in enumerate(cumvar, start=1):\n",
    "    print(f\"PC1–PC{i}: {cv:.2%} variance explained\")\n",
    "\n",
    "# 4.4 Programmatic choice of k for, say, 90% retention\n",
    "import numpy as np\n",
    "desired_variance = 0.90\n",
    "k = np.argmax(cumvar >= desired_variance) + 1\n",
    "print(f\"\\nChoosing k = {k} (retains {cumvar[k-1]:.2%} of variance)\")"
   ]
  },
  {
   "cell_type": "code",
   "execution_count": 13,
   "metadata": {},
   "outputs": [
    {
     "name": "stdout",
     "output_type": "stream",
     "text": [
      "Using k = 2 components:\n"
     ]
    },
    {
     "data": {
      "text/html": [
       "<div>\n",
       "<style scoped>\n",
       "    .dataframe tbody tr th:only-of-type {\n",
       "        vertical-align: middle;\n",
       "    }\n",
       "\n",
       "    .dataframe tbody tr th {\n",
       "        vertical-align: top;\n",
       "    }\n",
       "\n",
       "    .dataframe thead th {\n",
       "        text-align: right;\n",
       "    }\n",
       "</style>\n",
       "<table border=\"1\" class=\"dataframe\">\n",
       "  <thead>\n",
       "    <tr style=\"text-align: right;\">\n",
       "      <th></th>\n",
       "      <th>PC1</th>\n",
       "      <th>PC2</th>\n",
       "    </tr>\n",
       "  </thead>\n",
       "  <tbody>\n",
       "    <tr>\n",
       "      <th>0</th>\n",
       "      <td>0.789209</td>\n",
       "      <td>-0.303542</td>\n",
       "    </tr>\n",
       "    <tr>\n",
       "      <th>1</th>\n",
       "      <td>0.789209</td>\n",
       "      <td>-0.303542</td>\n",
       "    </tr>\n",
       "    <tr>\n",
       "      <th>2</th>\n",
       "      <td>0.789209</td>\n",
       "      <td>-0.303542</td>\n",
       "    </tr>\n",
       "    <tr>\n",
       "      <th>3</th>\n",
       "      <td>0.789209</td>\n",
       "      <td>-0.303542</td>\n",
       "    </tr>\n",
       "    <tr>\n",
       "      <th>4</th>\n",
       "      <td>0.789209</td>\n",
       "      <td>-0.303542</td>\n",
       "    </tr>\n",
       "  </tbody>\n",
       "</table>\n",
       "</div>"
      ],
      "text/plain": [
       "        PC1       PC2\n",
       "0  0.789209 -0.303542\n",
       "1  0.789209 -0.303542\n",
       "2  0.789209 -0.303542\n",
       "3  0.789209 -0.303542\n",
       "4  0.789209 -0.303542"
      ]
     },
     "metadata": {},
     "output_type": "display_data"
    }
   ],
   "source": [
    "# Step 5 - Output the Transformed Dataset\n",
    "\n",
    "# 5.1 Build a DataFrame of the first k principal components\n",
    "df_pca = pd.DataFrame(\n",
    "    X_pca[:, :k],\n",
    "    columns=[f'PC{i}' for i in range(1, k+1)]\n",
    ")\n",
    "\n",
    "print(f\"Using k = {k} components:\")\n",
    "display(df_pca.head())"
   ]
  },
  {
   "cell_type": "code",
   "execution_count": 18,
   "metadata": {},
   "outputs": [
    {
     "data": {
      "image/png": "[encoded data removed]",
      "text/plain": [
       "<Figure size 640x480 with 1 Axes>"
      ]
     },
     "metadata": {},
     "output_type": "display_data"
    }
   ],
   "source": [
    "# Step 6 - Scatter Plot of PC1 vs. PC2 & Interpretation\n",
    "plt.figure()\n",
    "plt.scatter(df_pca['PC1'], df_pca['PC2'], alpha=0.7)\n",
    "plt.title('PC1 vs PC2 Projection')\n",
    "plt.xlabel('PC1')\n",
    "plt.ylabel('PC2')\n",
    "plt.grid(True)\n",
    "plt.show()\n"
   ]
  },
  {
   "cell_type": "code",
   "execution_count": 21,
   "metadata": {},
   "outputs": [
    {
     "name": "stdout",
     "output_type": "stream",
     "text": [
      "  Wrapper (RFE) Embedded (Lasso) Filter (F-test)\n",
      "0          Neck          Abdomen         Abdomen\n",
      "1       Abdomen           Weight           Chest\n",
      "2           Hip              Hip             Hip\n",
      "3       Forearm            Wrist          Weight\n",
      "4         Wrist             Neck           Thigh\n"
     ]
    }
   ],
   "source": [
    "# Question 3 - Feature selection \n",
    "\n",
    "import pandas as pd\n",
    "import numpy as np\n",
    "from sklearn.feature_selection import RFE, SelectKBest, f_regression\n",
    "from sklearn.linear_model import LinearRegression, LassoCV\n",
    "from sklearn.preprocessing import StandardScaler\n",
    "\n",
    "# 1. Load & clean the data\n",
    "df = pd.read_csv('/Users/yashsoni/Documents/BMI.csv')\n",
    "df.dropna(inplace=True)\n",
    "\n",
    "# 2. Drop age and split into X (features) and y (target)\n",
    "if 'Age' in df.columns:\n",
    "    df = df.drop(columns=['Age'])\n",
    "elif 'age' in df.columns:\n",
    "    df = df.drop(columns=['age'])\n",
    "y = df['fatpctg']\n",
    "X = df.drop(columns=['fatpctg'])\n",
    "features = X.columns.tolist()\n",
    "\n",
    "# How many top features to select\n",
    "n = 5\n",
    "\n",
    "# 3. Wrapper method: RFE with LinearRegression\n",
    "rfe = RFE(estimator=LinearRegression(), n_features_to_select=n)\n",
    "rfe.fit(X, y)\n",
    "top_wrapper = [f for f, s in zip(features, rfe.support_) if s]\n",
    "\n",
    "# 4. Embedded method: LassoCV\n",
    "X_std = StandardScaler().fit_transform(X)\n",
    "lasso = LassoCV(cv=5, random_state=0).fit(X_std, y)\n",
    "coef_imp = pd.Series(np.abs(lasso.coef_), index=features)\n",
    "top_embedded = coef_imp.nlargest(n).index.tolist()\n",
    "\n",
    "# 5. Filter method: Univariate F-test\n",
    "filter_k = SelectKBest(score_func=f_regression, k=n)\n",
    "filter_k.fit(X, y)\n",
    "f_scores = pd.Series(filter_k.scores_, index=features)\n",
    "top_filter = f_scores.nlargest(n).index.tolist()\n",
    "\n",
    "# 6. Compile results\n",
    "results = pd.DataFrame({\n",
    "    'Wrapper (RFE)': pd.Series(top_wrapper),\n",
    "    'Embedded (Lasso)': pd.Series(top_embedded),\n",
    "    'Filter (F-test)': pd.Series(top_filter)\n",
    "})\n",
    "print(results)"
   ]
  },
  {
   "cell_type": "code",
   "execution_count": null,
   "metadata": {},
   "outputs": [],
   "source": []
  }
 ],
 "metadata": {
  "kernelspec": {
   "display_name": "Python 3",
   "language": "python",
   "name": "python3"
  },
  "language_info": {
   "codemirror_mode": {
    "name": "ipython",
    "version": 3
   },
   "file_extension": ".py",
   "mimetype": "text/x-python",
   "name": "python",
   "nbconvert_exporter": "python",
   "pygments_lexer": "ipython3",
   "version": "3.9.6"
  }
 },
 "nbformat": 4,
 "nbformat_minor": 2
}
